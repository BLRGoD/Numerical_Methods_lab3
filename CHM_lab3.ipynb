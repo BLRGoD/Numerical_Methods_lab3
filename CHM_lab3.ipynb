{
  "nbformat": 4,
  "nbformat_minor": 0,
  "metadata": {
    "colab": {
      "provenance": [],
      "authorship_tag": "ABX9TyPdu/xqy4Bc//oehxE7AVRH"
    },
    "kernelspec": {
      "name": "python3",
      "display_name": "Python 3"
    },
    "language_info": {
      "name": "python"
    }
  },
  "cells": [
    {
      "cell_type": "code",
      "execution_count": null,
      "metadata": {
        "id": "r2VnhsI_eKOr"
      },
      "outputs": [],
      "source": [
        "import matplotlib.pyplot as plt\n",
        "x = [1, 2, 3, 4, 5, 6, 7, 8, 9, 10, 11, 12, 13, 14, 15, 16, 17, 18, 19, 20]\n",
        "y = [5, 6, 8, 10, 12, 13, 12, 10, 8, 10, 8, 11, 7, 9, 11, 10, 9, 12, 11, 6]\n",
        "def a1(i1, i2):\n",
        " return (y[i2] - y[i1]) / (x[i2] - x[i1])\n",
        "def a2(i1, i2, i3):\n",
        " return (a1(i1, i2) - a1(i1, i3)) / (x[i2] - x[i3])\n",
        "def Pn(xi, i):\n",
        " return y[i] + a1(i + 1, i) * (xi - x[i]) + \\\n",
        " a2(i + 2, i + 1, i) * (xi - x[i]) * (xi - x[i + 1])\n",
        "xn = 1\n",
        "i = 0\n",
        "xRes = []\n",
        "yRes = []\n",
        "while xn <= 20:\n",
        " if xn < 3:\n",
        "  yRes.append(Pn(xn, 0))\n",
        " elif xn >= 18:\n",
        "  yRes.append(Pn(xn, 17))\n",
        " else:\n",
        "  yRes.append(Pn(xn, int(xn) - 2))\n",
        " xRes.append(xn)\n",
        " print(xn, ': Pn(x) = ', yRes[i])\n",
        " xn += 0.25\n",
        " i += 1\n",
        "plt.plot(x, y)\n",
        "plt.plot(xRes, yRes)\n"
      ]
    }
  ]
}